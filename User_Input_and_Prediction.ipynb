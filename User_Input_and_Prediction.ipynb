{
  "nbformat": 4,
  "nbformat_minor": 0,
  "metadata": {
    "colab": {
      "provenance": []
    },
    "kernelspec": {
      "name": "python3",
      "display_name": "Python 3"
    },
    "language_info": {
      "name": "python"
    }
  },
  "cells": [
    {
      "cell_type": "markdown",
      "source": [
        "**Project Overview:** The goal of this project is to develop predictive models for identifying the probability of different health conditions such as heart attack, stroke, blood pressure issues, lung cancer, eczema, psoriasis, bronchitis, COPD (Chronic Obstructive Pulmonary Disease), and asthma. The models utilize features such as age, existing health issues, exposure years, physical activity level, air quality index (AQI), and gender to make these predictions"
      ],
      "metadata": {
        "id": "9GKU-ToRMIp8"
      }
    },
    {
      "cell_type": "markdown",
      "source": [
        "**Approach:**\n",
        "\n",
        "**Data Preprocessing: **The dataset containing information on health conditions and associated features is loaded and preprocessed. Categorical variables are encoded, and percentages are converted to binary labels based on predefined thresholds.\n",
        "\n",
        "**Model Training**: Random Forest classifiers are trained for each health condition using the preprocessed dataset. The number of trees in the forest is set to 100, and the models are trained on the features to predict the binary outcome of each health condition.\n",
        "\n",
        "**User Input and Prediction**: After training the models, the program prompts the user to input their personal information including age, existing health issues, exposure years, physical activity level, AQI, and gender. The trained models then use these inputs to predict the likelihood of each health condition for the user."
      ],
      "metadata": {
        "id": "_z54cj6pMiEE"
      }
    },
    {
      "cell_type": "code",
      "execution_count": 1,
      "metadata": {
        "id": "wv1hpPjvHleR"
      },
      "outputs": [],
      "source": [
        "\n",
        "import pandas as pd\n",
        "from sklearn.ensemble import RandomForestClassifier\n",
        "from sklearn.preprocessing import LabelEncoder\n",
        "from sklearn.model_selection import cross_val_score\n",
        "import numpy as np\n"
      ]
    },
    {
      "cell_type": "code",
      "source": [
        "\n",
        "# Load the new dataset\n",
        "df = pd.read_excel('/content/health_data_percentages.xlsx')\n"
      ],
      "metadata": {
        "id": "5FiiY_dbHw9c"
      },
      "execution_count": 2,
      "outputs": []
    },
    {
      "cell_type": "code",
      "source": [
        "\n",
        "# Encode categorical variables if needed\n",
        "label_encoder = LabelEncoder()\n",
        "df['Physical_Activity_Level'] = label_encoder.fit_transform(df['Physical_Activity_Level'])\n",
        "df['Gender'] = label_encoder.fit_transform(df['Gender'])\n",
        "\n"
      ],
      "metadata": {
        "id": "Jp51jGG2H0K3"
      },
      "execution_count": 3,
      "outputs": []
    },
    {
      "cell_type": "code",
      "source": [
        "# Define features\n",
        "X = df.drop(['Heart_Attack_Percentage', 'Stroke_Percentage', 'Blood_Pressure_Percentage', 'Lung_Cancer_Percentage', 'Eczema_Percentage', 'Psoriasis_Percentage', 'Bronchitis_Percentage', 'COPD_Percentage', 'Asthma_Percentage'], axis=1)\n",
        "\n"
      ],
      "metadata": {
        "id": "YBWOW2P0H2_P"
      },
      "execution_count": 4,
      "outputs": []
    },
    {
      "cell_type": "code",
      "source": [
        "# Define thresholds for classification\n",
        "thresholds = {\n",
        "    'Heart_Attack_Percentage': 0.5,  # Example threshold, adjust as needed\n",
        "    'Stroke_Percentage': 0.5,  # Example threshold, adjust as needed\n",
        "    'Blood_Pressure_Percentage': 0.5,  # Example threshold, adjust as needed\n",
        "    'Lung_Cancer_Percentage': 0.5,  # Example threshold, adjust as needed\n",
        "    'Eczema_Percentage': 0.5,  # Example threshold, adjust as needed\n",
        "    'Psoriasis_Percentage': 0.5,  # Example threshold, adjust as needed\n",
        "    'Bronchitis_Percentage': 0.5,  # Example threshold, adjust as needed\n",
        "    'COPD_Percentage': 0.5,  # Example threshold, adjust as needed\n",
        "    'Asthma_Percentage': 0.5  # Example threshold, adjust as needed\n",
        "}\n",
        "\n"
      ],
      "metadata": {
        "id": "C5atKy8vH9Yk"
      },
      "execution_count": 5,
      "outputs": []
    },
    {
      "cell_type": "code",
      "source": [
        "# Convert percentages to binary labels based on thresholds\n",
        "for disease, threshold in thresholds.items():\n",
        "    df[disease] = (df[disease] > threshold).astype(int)\n",
        "\n",
        "# Define target variables\n",
        "y = df[['Heart_Attack_Percentage', 'Stroke_Percentage', 'Blood_Pressure_Percentage', 'Lung_Cancer_Percentage', 'Eczema_Percentage', 'Psoriasis_Percentage', 'Bronchitis_Percentage', 'COPD_Percentage', 'Asthma_Percentage']]\n",
        "\n",
        "\n"
      ],
      "metadata": {
        "id": "ddxkmGGSIBoJ"
      },
      "execution_count": 7,
      "outputs": []
    },
    {
      "cell_type": "code",
      "source": [
        "# Train a Random Forest model for each health condition\n",
        "models = {}\n",
        "for disease in y.columns:\n",
        "    model = RandomForestClassifier(n_estimators=100, random_state=0)  # Set number of trees to 100\n",
        "    model.fit(X, y[disease])\n",
        "    models[disease] = model\n",
        "\n"
      ],
      "metadata": {
        "id": "pHh9PWjIIGs9"
      },
      "execution_count": 8,
      "outputs": []
    },
    {
      "cell_type": "code",
      "source": [
        "#Evaluate the accuracy of each model using cross-validation\n",
        "accuracies = {}\n",
        "for disease, model in models.items():\n",
        "    scores = cross_val_score(model, X, y[disease], cv=5, scoring='accuracy')\n",
        "    accuracies[disease] = np.mean(scores)\n",
        "\n",
        "# Print the accuracy of each model\n",
        "print(\"Accuracy of each model:\")\n",
        "for disease, accuracy in accuracies.items():\n",
        "    print(f\"{disease}: {accuracy:.2f}\")\n"
      ],
      "metadata": {
        "colab": {
          "base_uri": "https://localhost:8080/"
        },
        "id": "zkdKkzM_II5d",
        "outputId": "2cf51356-39dc-4a3d-a6d8-ffd78f40ec12"
      },
      "execution_count": 9,
      "outputs": [
        {
          "output_type": "stream",
          "name": "stdout",
          "text": [
            "Accuracy of each model:\n",
            "Heart_Attack_Percentage: 0.99\n",
            "Stroke_Percentage: 0.99\n",
            "Blood_Pressure_Percentage: 0.99\n",
            "Lung_Cancer_Percentage: 0.99\n",
            "Eczema_Percentage: 0.99\n",
            "Psoriasis_Percentage: 0.99\n",
            "Bronchitis_Percentage: 0.99\n",
            "COPD_Percentage: 0.99\n",
            "Asthma_Percentage: 0.99\n"
          ]
        }
      ]
    },
    {
      "cell_type": "markdown",
      "source": [
        "# **Testing**"
      ],
      "metadata": {
        "id": "ULUr2fuDJLxK"
      }
    },
    {
      "cell_type": "code",
      "source": [
        "import matplotlib.pyplot as plt\n",
        "from sklearn.ensemble import RandomForestRegressor"
      ],
      "metadata": {
        "id": "XRkeJNq-Kd0g"
      },
      "execution_count": 17,
      "outputs": []
    },
    {
      "cell_type": "code",
      "source": [
        "# Encode categorical variables\n",
        "label_encoder = LabelEncoder()\n",
        "df['Physical_Activity_Level'] = label_encoder.fit_transform(df['Physical_Activity_Level'])\n",
        "df['Gender'] = label_encoder.fit_transform(df['Gender'])\n",
        "\n"
      ],
      "metadata": {
        "id": "sy9asNgVJKpT"
      },
      "execution_count": 18,
      "outputs": []
    },
    {
      "cell_type": "code",
      "source": [
        "# Define features and target variables\n",
        "X = df.drop(['Heart_Attack_Percentage', 'Stroke_Percentage', 'Blood_Pressure_Percentage',\n",
        "              'Lung_Cancer_Percentage', 'Eczema_Percentage', 'Psoriasis_Percentage',\n",
        "              'Bronchitis_Percentage', 'COPD_Percentage', 'Asthma_Percentage'], axis=1)\n",
        "\n",
        "y = df[['Heart_Attack_Percentage', 'Stroke_Percentage', 'Blood_Pressure_Percentage',\n",
        "        'Lung_Cancer_Percentage', 'Eczema_Percentage', 'Psoriasis_Percentage',\n",
        "        'Bronchitis_Percentage', 'COPD_Percentage', 'Asthma_Percentage']]\n",
        "\n",
        "# Train a Random Forest model for each health condition with bagging\n",
        "models = {}\n",
        "for disease in y.columns:\n",
        "    model = RandomForestRegressor(n_estimators=100, random_state=0)  # Set number of trees to 100\n",
        "    model.fit(X, y[disease])\n",
        "    models[disease] = model\n"
      ],
      "metadata": {
        "id": "N35ZARMKJveD"
      },
      "execution_count": 20,
      "outputs": []
    },
    {
      "cell_type": "code",
      "source": [
        "\n",
        "# Collect user input for testing\n",
        "age = int(input(\"Enter your age: \"))\n",
        "existing_health_issues = int(input(\"Enter 1 if you have existing health issues, 0 otherwise: \"))\n",
        "physical_activity_level = int(input(\"Enter your physical activity level (0 for Low, 1 for Moderate, 2 for High): \"))\n",
        "gender = int(input(\"Enter 1 for Male, 0 for Female: \"))\n",
        "\n"
      ],
      "metadata": {
        "colab": {
          "base_uri": "https://localhost:8080/"
        },
        "id": "GFAlLeCaJ2g5",
        "outputId": "1d4ac53c-605c-442f-a624-530a0b0aac51"
      },
      "execution_count": 21,
      "outputs": [
        {
          "name": "stdout",
          "output_type": "stream",
          "text": [
            "Enter your age: 60\n",
            "Enter 1 if you have existing health issues, 0 otherwise: 1\n",
            "Enter your physical activity level (0 for Low, 1 for Moderate, 2 for High): 1\n",
            "Enter 1 for Male, 0 for Female: 1\n"
          ]
        }
      ]
    },
    {
      "cell_type": "code",
      "source": [
        "# Generate AQI values\n",
        "initial_aqi = int(input(\"Enter the initial AQI (Air Quality Index): \"))\n",
        "aqi_values = np.arange(initial_aqi, initial_aqi + 20 * 2 + 1, 2)\n",
        "\n"
      ],
      "metadata": {
        "colab": {
          "base_uri": "https://localhost:8080/"
        },
        "id": "U1JrRFe1KEK3",
        "outputId": "bfbfed4a-fdf3-4cd9-a342-f4f4d9814901"
      },
      "execution_count": 23,
      "outputs": [
        {
          "name": "stdout",
          "output_type": "stream",
          "text": [
            "Enter the initial AQI (Air Quality Index): 50\n"
          ]
        }
      ]
    },
    {
      "cell_type": "code",
      "source": [
        "# Calculate average AQI value\n",
        "avg_aqi = np.mean(aqi_values)\n",
        "\n",
        "# Prepare input for prediction\n",
        "input_data = pd.DataFrame({\n",
        "    'Age': [age] * 20,\n",
        "    'Existing_Health_Issues': [existing_health_issues] * 20,\n",
        "    'Physical_Activity_Level': [physical_activity_level] * 20,\n",
        "    'Gender': [gender] * 20,\n",
        "    'Exposure_Years': list(range(1, 21)),\n",
        "    'AQI': avg_aqi  # Use the average AQI value for all exposure years\n",
        "})\n"
      ],
      "metadata": {
        "id": "mbO2ZwlcKNRq"
      },
      "execution_count": 24,
      "outputs": []
    },
    {
      "cell_type": "code",
      "source": [
        "\n",
        "# Make predictions using the trained models\n",
        "predictions = {}\n",
        "for disease, model in models.items():\n",
        "    prediction = model.predict(input_data[X.columns])\n",
        "    predictions[disease] = prediction\n",
        "\n",
        "# Plot the predicted percentages for each health condition\n",
        "plt.figure(figsize=(10, 6))\n",
        "for disease, prediction in predictions.items():\n",
        "    plt.plot(range(1, 21), prediction, label=disease)\n",
        "\n",
        "plt.title(f\"Predicted Percentages for AQI = {avg_aqi}\")\n",
        "plt.xlabel(\"Exposure Years\")\n",
        "plt.ylabel(\"Percentage\")\n",
        "plt.legend()\n",
        "plt.grid(True)\n",
        "plt.show()\n",
        "\n",
        "# Print the predicted percentages\n",
        "for disease, percentage in predictions.items():\n",
        "    print(f\"{disease}: {percentage[0]:.2f}%\")"
      ],
      "metadata": {
        "colab": {
          "base_uri": "https://localhost:8080/",
          "height": 720
        },
        "id": "loJatU6AKQwG",
        "outputId": "f38127df-1149-41d2-f81e-81ef1f9f93bc"
      },
      "execution_count": 26,
      "outputs": [
        {
          "output_type": "display_data",
          "data": {
            "text/plain": [
              "<Figure size 1000x600 with 1 Axes>"
            ],
            "image/png": "[encoded data removed]"
          },
          "metadata": {}
        },
        {
          "output_type": "stream",
          "name": "stdout",
          "text": [
            "Heart_Attack_Percentage: 0.00%\n",
            "Stroke_Percentage: 0.00%\n",
            "Blood_Pressure_Percentage: 0.00%\n",
            "Lung_Cancer_Percentage: 0.05%\n",
            "Eczema_Percentage: 0.00%\n",
            "Psoriasis_Percentage: 0.00%\n",
            "Bronchitis_Percentage: 0.00%\n",
            "COPD_Percentage: 0.06%\n",
            "Asthma_Percentage: 0.00%\n"
          ]
        }
      ]
    },
    {
      "cell_type": "markdown",
      "source": [
        "**Result:** The program provides predictions for each health condition based on the user's input, indicating whether the individual is likely to have the respective health condition or not."
      ],
      "metadata": {
        "id": "Gqk3WJTCM3yc"
      }
    }
  ]
}